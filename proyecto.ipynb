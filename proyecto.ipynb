{
 "cells": [
  {
   "cell_type": "code",
   "execution_count": 1,
   "metadata": {},
   "outputs": [],
   "source": [
    "import pandas as pd"
   ]
  },
  {
   "cell_type": "code",
   "execution_count": 9,
   "metadata": {},
   "outputs": [
    {
     "output_type": "execute_result",
     "data": {
      "text/plain": "         Date      Time CO(GT)  PT08.S1(CO)  NMHC(GT) C6H6(GT)  PT08.S2(NMHC)  \\\n0  10/03/2004  18.00.00    2,6       1360.0     150.0     11,9         1046.0   \n1  10/03/2004  19.00.00      2       1292.0     112.0      9,4          955.0   \n2  10/03/2004  20.00.00    2,2       1402.0      88.0      9,0          939.0   \n3  10/03/2004  21.00.00    2,2       1376.0      80.0      9,2          948.0   \n4  10/03/2004  22.00.00    1,6       1272.0      51.0      6,5          836.0   \n\n   NOx(GT)  PT08.S3(NOx)  NO2(GT)  PT08.S4(NO2)  PT08.S5(O3)     T    RH  \\\n0    166.0        1056.0    113.0        1692.0       1268.0  13,6  48,9   \n1    103.0        1174.0     92.0        1559.0        972.0  13,3  47,7   \n2    131.0        1140.0    114.0        1555.0       1074.0  11,9  54,0   \n3    172.0        1092.0    122.0        1584.0       1203.0  11,0  60,0   \n4    131.0        1205.0    116.0        1490.0       1110.0  11,2  59,6   \n\n       AH  \n0  0,7578  \n1  0,7255  \n2  0,7502  \n3  0,7867  \n4  0,7888  ",
      "text/html": "<div>\n<style scoped>\n    .dataframe tbody tr th:only-of-type {\n        vertical-align: middle;\n    }\n\n    .dataframe tbody tr th {\n        vertical-align: top;\n    }\n\n    .dataframe thead th {\n        text-align: right;\n    }\n</style>\n<table border=\"1\" class=\"dataframe\">\n  <thead>\n    <tr style=\"text-align: right;\">\n      <th></th>\n      <th>Date</th>\n      <th>Time</th>\n      <th>CO(GT)</th>\n      <th>PT08.S1(CO)</th>\n      <th>NMHC(GT)</th>\n      <th>C6H6(GT)</th>\n      <th>PT08.S2(NMHC)</th>\n      <th>NOx(GT)</th>\n      <th>PT08.S3(NOx)</th>\n      <th>NO2(GT)</th>\n      <th>PT08.S4(NO2)</th>\n      <th>PT08.S5(O3)</th>\n      <th>T</th>\n      <th>RH</th>\n      <th>AH</th>\n    </tr>\n  </thead>\n  <tbody>\n    <tr>\n      <th>0</th>\n      <td>10/03/2004</td>\n      <td>18.00.00</td>\n      <td>2,6</td>\n      <td>1360.0</td>\n      <td>150.0</td>\n      <td>11,9</td>\n      <td>1046.0</td>\n      <td>166.0</td>\n      <td>1056.0</td>\n      <td>113.0</td>\n      <td>1692.0</td>\n      <td>1268.0</td>\n      <td>13,6</td>\n      <td>48,9</td>\n      <td>0,7578</td>\n    </tr>\n    <tr>\n      <th>1</th>\n      <td>10/03/2004</td>\n      <td>19.00.00</td>\n      <td>2</td>\n      <td>1292.0</td>\n      <td>112.0</td>\n      <td>9,4</td>\n      <td>955.0</td>\n      <td>103.0</td>\n      <td>1174.0</td>\n      <td>92.0</td>\n      <td>1559.0</td>\n      <td>972.0</td>\n      <td>13,3</td>\n      <td>47,7</td>\n      <td>0,7255</td>\n    </tr>\n    <tr>\n      <th>2</th>\n      <td>10/03/2004</td>\n      <td>20.00.00</td>\n      <td>2,2</td>\n      <td>1402.0</td>\n      <td>88.0</td>\n      <td>9,0</td>\n      <td>939.0</td>\n      <td>131.0</td>\n      <td>1140.0</td>\n      <td>114.0</td>\n      <td>1555.0</td>\n      <td>1074.0</td>\n      <td>11,9</td>\n      <td>54,0</td>\n      <td>0,7502</td>\n    </tr>\n    <tr>\n      <th>3</th>\n      <td>10/03/2004</td>\n      <td>21.00.00</td>\n      <td>2,2</td>\n      <td>1376.0</td>\n      <td>80.0</td>\n      <td>9,2</td>\n      <td>948.0</td>\n      <td>172.0</td>\n      <td>1092.0</td>\n      <td>122.0</td>\n      <td>1584.0</td>\n      <td>1203.0</td>\n      <td>11,0</td>\n      <td>60,0</td>\n      <td>0,7867</td>\n    </tr>\n    <tr>\n      <th>4</th>\n      <td>10/03/2004</td>\n      <td>22.00.00</td>\n      <td>1,6</td>\n      <td>1272.0</td>\n      <td>51.0</td>\n      <td>6,5</td>\n      <td>836.0</td>\n      <td>131.0</td>\n      <td>1205.0</td>\n      <td>116.0</td>\n      <td>1490.0</td>\n      <td>1110.0</td>\n      <td>11,2</td>\n      <td>59,6</td>\n      <td>0,7888</td>\n    </tr>\n  </tbody>\n</table>\n</div>"
     },
     "metadata": {},
     "execution_count": 9
    }
   ],
   "source": [
    "df = pd.read_csv('AirQualityUCI.csv', sep=';')\n",
    "df.drop(columns=['Unnamed: 15','Unnamed: 16'], inplace=True)\n",
    "df.dropna(inplace=True)\n",
    "df.head()"
   ]
  },
  {
   "cell_type": "code",
   "execution_count": 8,
   "metadata": {},
   "outputs": [
    {
     "output_type": "execute_result",
     "data": {
      "text/plain": "Date              object\nTime              object\nCO(GT)            object\nPT08.S1(CO)      float64\nNMHC(GT)         float64\nC6H6(GT)          object\nPT08.S2(NMHC)    float64\nNOx(GT)          float64\nPT08.S3(NOx)     float64\nNO2(GT)          float64\nPT08.S4(NO2)     float64\nPT08.S5(O3)      float64\nT                 object\nRH                object\nAH                object\ndtype: object"
     },
     "metadata": {},
     "execution_count": 8
    }
   ],
   "source": [
    "df.dtypes\n",
    "# TODO:\n",
    "# pasar fecha a tipo fecha\n",
    "# resto a float (?)\n",
    "# pasar los -200 a nan"
   ]
  }
 ],
 "metadata": {
  "language_info": {
   "codemirror_mode": {
    "name": "ipython",
    "version": 3
   },
   "file_extension": ".py",
   "mimetype": "text/x-python",
   "name": "python",
   "nbconvert_exporter": "python",
   "pygments_lexer": "ipython3",
   "version": "3.7.1-final"
  },
  "orig_nbformat": 2,
  "kernelspec": {
   "name": "python3",
   "display_name": "Python 3"
  }
 },
 "nbformat": 4,
 "nbformat_minor": 2
}