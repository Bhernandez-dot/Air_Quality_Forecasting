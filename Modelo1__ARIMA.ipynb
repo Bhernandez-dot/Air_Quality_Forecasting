{
 "cells": [
  {
   "cell_type": "markdown",
   "metadata": {},
   "source": [
    "# Proyecto Final Machine Learning"
   ]
  },
  {
   "cell_type": "code",
   "execution_count": null,
   "metadata": {},
   "outputs": [],
   "source": [
    "import pandas as pd\n",
    "import matplotlib.pyplot as plt\n",
    "import seaborn as sns\n",
    "import numpy as np\n",
    "from scipy.stats import norm\n",
    "from scipy import stats\n",
    "import pickle\n",
    "\n",
    "from sklearn import linear_model\n",
    "from sklearn.model_selection import train_test_split\n",
    "from scipy.optimize import curve_fit\n",
    "\n",
    "import warnings\n",
    "warnings.filterwarnings(\"ignore\")\n",
    "\n",
    "sns.set_style(\"whitegrid\")"
   ]
  },
  {
   "cell_type": "markdown",
   "metadata": {},
   "source": [
    "## Carga y Limpieza de datos"
   ]
  },
  {
   "cell_type": "code",
   "execution_count": null,
   "metadata": {},
   "outputs": [],
   "source": [
    "''' Se cargan los datos '''\n",
    "df = pd.read_csv('AirQualityUCI.csv', sep=';')\n",
    "df.drop(columns=['Unnamed: 15','Unnamed: 16'], inplace=True)\n",
    "df.dropna(inplace=True)\n",
    "\n",
    "''' Se cambia al formato deseado '''\n",
    "cols = [col  for col in df.columns if df[col].dtype == 'O' and col != 'Time']\n",
    "df['Time'] = df['Time'].str.replace('.',':')\n",
    "df[cols] = df[cols].replace(',','.',regex = True)\n",
    "df[df.columns[2:]] = df[df.columns[2:]].astype(float)\n",
    "df['Date'] = pd.to_datetime(df['Date'], format='%d/%m/%Y')\n",
    "df['Time'] = pd.to_timedelta(df['Time'], errors = 'ignore')\n",
    "\n",
    "''' Indice como fecha y los valores -200 se pasan a nan'''\n",
    "df.index = df['Date'] + df['Time']\n",
    "df.drop(['Date','Time'],axis=1,inplace=True)\n",
    "df = df.replace(-200,np.nan)\n",
    "df.index.name = 'Fecha'\n",
    "df.head()"
   ]
  },
  {
   "cell_type": "markdown",
   "metadata": {},
   "source": [
    "## Datos Faltantes"
   ]
  },
  {
   "cell_type": "code",
   "execution_count": null,
   "metadata": {},
   "outputs": [],
   "source": [
    "import missingno as msno"
   ]
  },
  {
   "cell_type": "code",
   "execution_count": null,
   "metadata": {},
   "outputs": [],
   "source": [
    "\"\"\" Cuantos nan hay por columna \"\"\"\n",
    "df.isna().sum()"
   ]
  },
  {
   "cell_type": "code",
   "execution_count": null,
   "metadata": {},
   "outputs": [],
   "source": [
    "''' Se quitan las columnas con demasiados nan '''\n",
    "df.drop(['NMHC(GT)'],axis=1,inplace=True)"
   ]
  },
  {
   "cell_type": "code",
   "execution_count": null,
   "metadata": {},
   "outputs": [],
   "source": [
    "''' Distribucion de los nan '''\n",
    "fig =msno.matrix(df[df.isnull().sum().index], labels=True, sparkline=False, figsize=(10,5), fontsize=10)\n",
    "fig_copy = fig.get_figure()\n",
    "plt.show()"
   ]
  },
  {
   "cell_type": "code",
   "execution_count": null,
   "metadata": {},
   "outputs": [],
   "source": [
    "def plot_cols(col1,col2):\n",
    "    '''Plot de columna 2 versus columna 1 '''\n",
    "    df_nan = df[[col1,col2]].dropna()\n",
    "    plt.figure(figsize=(15,7))\n",
    "    plt.plot(df_nan.values.T[0],df_nan.values.T[1],'o')\n",
    "    plt.xlabel(col1,fontsize=15)\n",
    "    plt.ylabel(col2,fontsize=15)\n",
    "    plt.title('Comparacion '+col2+' con '+col1,fontsize=15)"
   ]
  },
  {
   "cell_type": "markdown",
   "metadata": {},
   "source": [
    "Se usara la relacion entre las columnas GT y PT para rellenar los datos faltantes (siempre que se pueda)."
   ]
  },
  {
   "cell_type": "code",
   "execution_count": null,
   "metadata": {},
   "outputs": [],
   "source": [
    "plot_cols('CO(GT)','PT08.S1(CO)')\n",
    "plot_cols('NOx(GT)','PT08.S3(NOx)')\n",
    "plot_cols('NO2(GT)','PT08.S4(NO2)')"
   ]
  },
  {
   "cell_type": "markdown",
   "metadata": {},
   "source": [
    "Al observar los graficos se ve que para las primeras dos comparaciones es favorable ajustar una curva a los datos."
   ]
  },
  {
   "cell_type": "code",
   "execution_count": null,
   "metadata": {},
   "outputs": [],
   "source": [
    "def Regresion_Lineal(columnas):\n",
    "    df_nan = df[columnas].dropna() \n",
    "    X = df_nan[[columnas[0]]].values\n",
    "    y = df_nan[columnas[1]].values\n",
    "    regr = linear_model.RidgeCV().fit(X,y)\n",
    "    return regr\n",
    "\n",
    "def curve(x,a,b,c):\n",
    "    return a*np.exp(-b*x)+c\n",
    "\n",
    "def Regresion_Nolineal(columnas):\n",
    "    df_nan = df[columnas].dropna() \n",
    "    X = df_nan[columnas[0]].values\n",
    "    y = df_nan[columnas[1]].values\n",
    "    regr,cov = curve_fit(curve,X,y)\n",
    "    return regr"
   ]
  },
  {
   "cell_type": "code",
   "execution_count": null,
   "metadata": {},
   "outputs": [],
   "source": [
    "modeloCO = Regresion_Lineal(['CO(GT)','PT08.S1(CO)'])\n",
    "modeloNOx = Regresion_Nolineal(['NOx(GT)','PT08.S3(NOx)'])"
   ]
  },
  {
   "cell_type": "code",
   "execution_count": null,
   "metadata": {},
   "outputs": [],
   "source": [
    "def plot_fit(col1,col2,modelo):\n",
    "    '''Plot del ajuste del modelo, para columna 2 versus columna 1 '''\n",
    "    fig = plt.figure(figsize=(16,6))\n",
    "    for i in range(len(col1)):\n",
    "        df_nan = df[[col1[i],col2[i]]].dropna()\n",
    "        X = df_nan.values[:,0].reshape(-1,1)\n",
    "        try:\n",
    "            y_pred = modelo[i].predict(X)\n",
    "            tipo = ''\n",
    "        except:\n",
    "            y_pred = curve(X,*modelo[i])\n",
    "            tipo = '.'\n",
    "        y = df_nan.values[:,1]\n",
    "        plt.subplot(1, len(col1), i+1)\n",
    "        plt.plot(X,y,'o')\n",
    "        plt.plot(X,y_pred,tipo)\n",
    "        plt.xlabel(col1[i],fontsize=20)\n",
    "        plt.ylabel(col2[i],fontsize=20)\n",
    "        plt.title('Ajuste '+col2[i]+' con respecto a '+col1[i],fontsize=20)\n",
    "    plt.savefig('imagenes/ajuste.pdf', bbox_inches = 'tight')"
   ]
  },
  {
   "cell_type": "code",
   "execution_count": null,
   "metadata": {},
   "outputs": [],
   "source": [
    "plot_fit(['CO(GT)','NOx(GT)'],['PT08.S1(CO)','PT08.S3(NOx)'],[modeloCO,modeloNOx])"
   ]
  },
  {
   "cell_type": "code",
   "execution_count": null,
   "metadata": {},
   "outputs": [],
   "source": [
    "def rellenar_nan(col1,col2,modelo):\n",
    "    '''Relleno de datos faltantes dado un modelo ajustado, sino hay modelo se usa fillna de pandas '''\n",
    "    if col2 == '':\n",
    "        df[col1] = df[col1].fillna(method = modelo)\n",
    "    else:\n",
    "        df_col = df[[col1,col2]]\n",
    "        indice = df_col[df_col.isnull().any(1)].dropna(axis=0,how='all').index\n",
    "        hola1 = df_col.loc[indice][[col1]]\n",
    "        hola2 = df_col.loc[hola1[hola1.isnull().any(1)].index]\n",
    "        indice_importante = hola2.index\n",
    "        X = hola2.values[:,1:2]\n",
    "        try:\n",
    "            new_df = pd.DataFrame(modelo.predict(X),index = indice_importante,columns = [col1])\n",
    "        except:\n",
    "            new_df = pd.DataFrame(curve(X,*modelo),index = indice_importante,columns = [col1])\n",
    "        df.fillna(new_df[[col1]],inplace=True)"
   ]
  },
  {
   "cell_type": "code",
   "execution_count": null,
   "metadata": {},
   "outputs": [],
   "source": [
    "rellenar_nan('PT08.S1(CO)','CO(GT)',modeloCO)\n",
    "rellenar_nan('PT08.S3(NOx)','NOx(GT)',modeloNOx)\n",
    "rellenar_nan(['PT08.S1(CO)','PT08.S2(NMHC)','PT08.S3(NOx)','PT08.S5(O3)','PT08.S4(NO2)','T','RH','AH'],'','ffill')\n",
    "df.dropna(axis=1,inplace=True)"
   ]
  },
  {
   "cell_type": "code",
   "execution_count": null,
   "metadata": {},
   "outputs": [],
   "source": [
    "'''Guardar el dataframe en pickle '''\n",
    "df.to_pickle(\"el_df.pkl\")"
   ]
  },
  {
   "cell_type": "code",
   "execution_count": null,
   "metadata": {},
   "outputs": [],
   "source": [
    "'''Cargar los datos, ya procesados '''\n",
    "df = pd.read_pickle(\"el_df.pkl\")\n",
    "df.head()"
   ]
  },
  {
   "cell_type": "markdown",
   "metadata": {},
   "source": [
    "## Distribución de los datos"
   ]
  },
  {
   "cell_type": "code",
   "execution_count": null,
   "metadata": {},
   "outputs": [],
   "source": [
    "import plotly.graph_objects as go"
   ]
  },
  {
   "cell_type": "code",
   "execution_count": null,
   "metadata": {},
   "outputs": [],
   "source": [
    "def plot_data_distribution(df):\n",
    "    '''Vista previa de la distribución de los datos, sin considerar la dependencia temporal '''\n",
    "    \n",
    "    fig, ax = plt.subplots(nrows=4, ncols=2, figsize=[17, 17])\n",
    "    fig.tight_layout()\n",
    "\n",
    "    # list(map(lambda a : a.remove(), ax[-1,1:]))\n",
    "    fig.suptitle('Distribuciones previa dependencia del tiempo',\n",
    "                fontsize=20,\n",
    "                x=0.5,\n",
    "                y=1.05)\n",
    "\n",
    "    for axis, col in zip(ax.flatten(), df.columns[:]):\n",
    "        try :\n",
    "            sns.distplot(df[col], ax=axis, rug=True)\n",
    "                \n",
    "        except RuntimeError:\n",
    "            sns.distplot(df[col], ax=axis, rug=True, kde=False)\n",
    "        \n",
    "        axis.set_xlabel(col, fontsize=15)\n",
    "\n",
    "    plt.subplots_adjust(wspace=0.4, hspace=0.4)\n",
    "\n",
    "def plot_tiempo(columna):\n",
    "    '''Grafico de la columna deseada en funcion del tiempo, usando plotly '''\n",
    "    fig = go.Figure([go.Scatter(x=df.index, y=df[columna])])\n",
    "    fig.update_layout(title={'text': f\"{columna} en función del tiempo\", 'y':0.9, 'x':0.5, \n",
    "                             'xanchor': 'center', 'yanchor': 'top'},\n",
    "                      xaxis_title=\"Fecha\",\n",
    "                      yaxis_title=f\"{columna}\",\n",
    "                      font=dict(size=15),\n",
    "                      width=900, height=500)\n",
    "    fig.show()"
   ]
  },
  {
   "cell_type": "code",
   "execution_count": null,
   "metadata": {},
   "outputs": [],
   "source": [
    "'''Distribucion de los datos, sin considerar la dependencia temporal '''\n",
    "plot_data_distribution(df)"
   ]
  },
  {
   "cell_type": "code",
   "execution_count": null,
   "metadata": {},
   "outputs": [],
   "source": [
    "''' Datos en funcion del tiempo '''\n",
    "k=0\n",
    "for col in df.columns:\n",
    "    if k==5:\n",
    "        break\n",
    "    plot_tiempo(col)\n",
    "    k+=1"
   ]
  },
  {
   "cell_type": "markdown",
   "metadata": {},
   "source": [
    "## Distribución outliers"
   ]
  },
  {
   "cell_type": "code",
   "execution_count": null,
   "metadata": {},
   "outputs": [],
   "source": [
    "fig, ax = plt.subplots(nrows=4, ncols=2, figsize=[17, 17])\n",
    "fig.tight_layout()\n",
    "fig.suptitle('Distribucion boxplot de los datos', fontsize=20, x=0.5, y=1.05)\n",
    "for axis, col in zip(ax.flatten(), df.columns[:]):\n",
    "    df[col].plot.box(ax = axis)\n",
    "plt.subplots_adjust(wspace=0.4, hspace=0.4)"
   ]
  },
  {
   "cell_type": "code",
   "execution_count": null,
   "metadata": {},
   "outputs": [],
   "source": [
    "# que hacer con los outliers???"
   ]
  },
  {
   "cell_type": "markdown",
   "metadata": {},
   "source": [
    "## Análisis de correlación"
   ]
  },
  {
   "cell_type": "code",
   "execution_count": null,
   "metadata": {
    "tags": []
   },
   "outputs": [],
   "source": [
    "df_corr = df.corr()\n",
    "df_corr\n",
    "# print(df_corr.iloc[:4,:4].to_latex())"
   ]
  },
  {
   "cell_type": "markdown",
   "metadata": {},
   "source": [
    "Se puede apreciar que las columnas de interes (concentraciones) tienen una alta correlacion entre ellas, pero no asi con la temperatura y la humedad (NO2 igual un poco)"
   ]
  },
  {
   "cell_type": "code",
   "execution_count": null,
   "metadata": {
    "tags": []
   },
   "outputs": [],
   "source": [
    "'''Diccionario con posibles variables para predecir variables de interes '''\n",
    "dic_pred = dict()\n",
    "for x in df_corr.columns:\n",
    "    dic_pred[x]=[]\n",
    "    for y in df_corr.columns:\n",
    "        if abs(df_corr.loc[x,y]) > 0.5:\n",
    "            dic_pred[x].append(y)\n",
    "del dic_pred['T'], dic_pred['RH'], dic_pred['AH']\n",
    "for key,value in dic_pred.items():\n",
    "    print(f\"{key}: {value}\")"
   ]
  },
  {
   "cell_type": "markdown",
   "metadata": {},
   "source": [
    "## Matraca prediccion"
   ]
  },
  {
   "cell_type": "markdown",
   "metadata": {},
   "source": [
    "Como primer acercamiento, se estudiará el desempeño del modelo ARIMA para la variable CO, que se muestra a continuación."
   ]
  },
  {
   "cell_type": "code",
   "execution_count": null,
   "metadata": {},
   "outputs": [],
   "source": [
    "plot_tiempo('PT08.S1(CO)')"
   ]
  },
  {
   "cell_type": "code",
   "execution_count": null,
   "metadata": {
    "tags": []
   },
   "outputs": [],
   "source": [
    "df[['PT08.S1(CO)']].describe()"
   ]
  },
  {
   "cell_type": "code",
   "execution_count": null,
   "metadata": {},
   "outputs": [],
   "source": [
    "from pmdarima.arima import auto_arima\n",
    "from statsmodels.tsa.statespace.sarimax import SARIMAX"
   ]
  },
  {
   "cell_type": "code",
   "execution_count": null,
   "metadata": {
    "tags": []
   },
   "outputs": [],
   "source": [
    "def train_test_split(df,tamaño = 0.8):\n",
    "    X_train = df[:int(df.shape[0]*(tamaño))]\n",
    "    X_test = df[int(df.shape[0]*tamaño):]\n",
    "    return X_train,X_test\n",
    "\n",
    "X_train, X_test = train_test_split(df)\n",
    "print(f'X_train: {len(X_train)}')\n",
    "print(f'X_test: {len(X_test)}')"
   ]
  },
  {
   "cell_type": "code",
   "execution_count": null,
   "metadata": {},
   "outputs": [],
   "source": [
    "X_test.head()"
   ]
  },
  {
   "cell_type": "code",
   "execution_count": null,
   "metadata": {},
   "outputs": [],
   "source": [
    "def Modelo_auto_arima(columna):\n",
    "    df_train = X_train[columna]\n",
    "    print('Encontrar Parametros Optimos')\n",
    "    model = auto_arima(df_train, start_p=24, start_q=6, max_p=24, max_q=6, d=0, max_d=0,\n",
    "                       seasonal = True,trace=True,error_action='ignore',suppress_warnings=True, stepwise=True)\n",
    "    print('Fiteo Terminado')\n",
    "    return model.get_params()"
   ]
  },
  {
   "cell_type": "code",
   "execution_count": null,
   "metadata": {},
   "outputs": [],
   "source": [
    "'''Cargar modelo '''\n",
    "try:\n",
    "    model_CO = pickle.load(open('modelos/modelo_CO.pkl','rb'))\n",
    "except:\n",
    "    try:\n",
    "        params_model = pickle.load(open('params_modelo.pkl','rb'))\n",
    "    except:\n",
    "        params_model = Modelo_auto_arima('PT08.S1(CO)')\n",
    "    model_CO = SARIMAX(X_train['PT08.S1(CO)'], **params_model)\n",
    "    model_CO = model_CO.fit()\n",
    "    print(model_CO.summary())\n",
    "    pickle.dump(model_CO, open('modelos/modelo_CO.pkl','wb'))"
   ]
  },
  {
   "cell_type": "code",
   "execution_count": null,
   "metadata": {},
   "outputs": [],
   "source": [
    "def error_pred(test, prediccion):\n",
    "    '''Retorna el Mean Absolute Error y el Mean Squared Error de la prediccion versus el testeo'''\n",
    "    mae = np.mean(abs(test-prediccion))\n",
    "    mse = np.mean((test-prediccion)**2)\n",
    "    return mae, mse\n",
    "\n",
    "def plot_ajuste(modelo, datos, tipo = 'entrenamiento', largo=300):\n",
    "    '''Plotea la prediccion para el conjunto de entrenamiento o testeo, para {largo} primeros datos '''\n",
    "    name = datos.name\n",
    "    plt.figure(figsize=(15,7))\n",
    "    plt.xlabel('Fecha', fontsize=20)\n",
    "    plt.ylabel(name, fontsize=20)\n",
    "    plt.title(f'Predicción de {name} en conjunto de {tipo}', fontsize=20)\n",
    "\n",
    "    if tipo == 'entrenamiento':\n",
    "        pred = modelo.predict()\n",
    "        plt.plot(datos[1:largo], label = 'Valor Real')\n",
    "        plt.plot(pred[1:largo],'o-', label = 'Prediccion')\n",
    "\n",
    "    elif tipo == 'test':\n",
    "        model_v2 = modelo.extend(datos)\n",
    "        pred = model_v2.predict()\n",
    "        plt.plot(datos[:largo], label = 'Valor Real')\n",
    "        plt.plot(pred[:largo], 'o-', label = 'Prediccion')\n",
    "        \n",
    "    plt.legend(loc='best', fontsize=17)\n",
    "    plt.savefig(f'imagenes/prediccion_{name}_{tipo}_{largo}.pdf', bbox_inches = 'tight')\n",
    "    plt.show()\n",
    "    \n",
    "    '''Tabla errores '''\n",
    "    mae, mse = error_pred(datos, pred)\n",
    "    error = pd.DataFrame([mae, mse], index= ['MAE','MSE'], columns=[f'Error {tipo}']).T\n",
    "    display(error)\n",
    "\n",
    "def prediccion(modelo, testeo, pasos=24):\n",
    "    '''Predice la variable una cantidad de pasos al futuro, separada en bloques '''\n",
    "    y_pred = pd.Series()\n",
    "    for k in range(int(testeo.shape[0]/pasos)):\n",
    "        y_test = testeo[pasos*k : pasos*(k+1)]\n",
    "        pred = modelo.forecast(steps=pasos)\n",
    "        y_pred = y_pred.append(pred)\n",
    "        modelo = modelo.extend(y_test)\n",
    "    return y_pred\n",
    "\n",
    "def ploteo(testeo, prediccion, pasos = 24, bloques = 4):\n",
    "    '''Plotea la prediccion y el valor real para pasos en el futuro y una cierta cantidad de bloques de datos '''\n",
    "    name = testeo.name\n",
    "    plt.figure(figsize=(15,7))\n",
    "    plt.xlabel('Fecha', fontsize=20)\n",
    "    plt.ylabel(name, fontsize=20)\n",
    "    plt.title(f'Prediccion de {name} para {bloques} bloques de datos', fontsize=20)\n",
    "    colores = ['r','b','g','y']\n",
    "    j = 0\n",
    "    for k in range(bloques):\n",
    "        y_test = testeo[pasos*k : pasos*(k+1)]\n",
    "        y_pred = prediccion[pasos*k : pasos*(k+1)]\n",
    "        if k>=4:\n",
    "            k = k%4\n",
    "        if j==0:\n",
    "            j=1\n",
    "            plt.plot(y_test,color=colores[k], label = 'Valor Real')\n",
    "            plt.plot(y_pred,'o-',color=colores[k], label = 'Predicion')\n",
    "        else: \n",
    "            plt.plot(y_test,color=colores[k])\n",
    "            plt.plot(y_pred, 'o-',color=colores[k])\n",
    "    plt.legend(loc='best', fontsize=17)\n",
    "    plt.savefig(f'imagenes/prediccion_{name}_pasos_{pasos}_bloques_{bloques}.pdf', bbox_inches = 'tight')\n",
    "    plt.show()\n",
    "    mae, mse = error_pred(testeo, prediccion)\n",
    "    error = pd.DataFrame([mae, mse], index= ['MAE','MSE'], columns=['Error test']).T\n",
    "    display(error)"
   ]
  },
  {
   "cell_type": "code",
   "execution_count": null,
   "metadata": {},
   "outputs": [],
   "source": [
    "plot_ajuste(model_CO, X_train['PT08.S1(CO)'], 'entrenamiento', 300)"
   ]
  },
  {
   "cell_type": "code",
   "execution_count": null,
   "metadata": {},
   "outputs": [],
   "source": [
    "plot_ajuste(model_CO, X_test['PT08.S1(CO)'], 'test', 100)"
   ]
  },
  {
   "cell_type": "code",
   "execution_count": null,
   "metadata": {},
   "outputs": [],
   "source": [
    "pasos = 24 # pasos al futuro\n",
    "bloques = 8\n",
    "y_pred = prediccion(model_CO, X_test['PT08.S1(CO)'], pasos=pasos)\n",
    "ploteo(X_test['PT08.S1(CO)'], y_pred, pasos = pasos, bloques = bloques)"
   ]
  },
  {
   "cell_type": "markdown",
   "metadata": {},
   "source": [
    "## Modelos otras concentraciones"
   ]
  },
  {
   "cell_type": "code",
   "execution_count": null,
   "metadata": {},
   "outputs": [],
   "source": [
    "# variables de interes\n",
    "# PT08.S1(CO)\tPT08.S2(NMHC)\tPT08.S3(NOx)\tPT08.S4(NO2)\tPT08.S5(O3)"
   ]
  },
  {
   "cell_type": "markdown",
   "metadata": {},
   "source": [
    "### NO2"
   ]
  },
  {
   "cell_type": "code",
   "execution_count": null,
   "metadata": {},
   "outputs": [],
   "source": [
    "'''Cargar modelo '''\n",
    "try:\n",
    "    model_NO2 = pickle.load(open('modelos/modelo_NO2.pkl','rb'))\n",
    "except:\n",
    "    params_model = pickle.load(open('params_modelo.pkl','rb'))\n",
    "    model_NO2 = SARIMAX(X_train['PT08.S4(NO2)'], **params_model)\n",
    "    model_NO2 = model_NO2.fit()\n",
    "    print(model_NO2.summary())\n",
    "    pickle.dump(model_NO2, open('modelos/modelo_NO2.pkl','wb'))"
   ]
  },
  {
   "cell_type": "code",
   "execution_count": null,
   "metadata": {},
   "outputs": [],
   "source": [
    "plot_ajuste(model_NO2, X_train['PT08.S4(NO2)'], 'entrenamiento', 300)\n",
    "plot_ajuste(model_NO2, X_test['PT08.S4(NO2)'], 'test', 100)"
   ]
  },
  {
   "cell_type": "code",
   "execution_count": null,
   "metadata": {},
   "outputs": [],
   "source": [
    "pasos = 12 # 12 pasos al futuro\n",
    "bloques = 4\n",
    "y_pred_NO2 = prediccion(model_NO2, X_test['PT08.S4(NO2)'], pasos=pasos)\n",
    "ploteo(X_test['PT08.S4(NO2)'], y_pred_NO2, pasos = pasos, bloques = bloques)"
   ]
  },
  {
   "cell_type": "markdown",
   "metadata": {},
   "source": [
    "### NOx"
   ]
  },
  {
   "cell_type": "code",
   "execution_count": null,
   "metadata": {
    "tags": []
   },
   "outputs": [],
   "source": [
    "'''Cargar modelo '''\n",
    "try:\n",
    "    model_NOx = pickle.load(open('modelos/modelo_NOx.pkl','rb'))\n",
    "except:\n",
    "    params_model = pickle.load(open('params_modelo.pkl','rb'))\n",
    "    model_NOx = SARIMAX(X_train['PT08.S3(NOx)'], **params_model)\n",
    "    model_NOx = model_NOx.fit()\n",
    "    print(model_NOx.summary())\n",
    "    pickle.dump(model_NOx, open('modelos/modelo_NOx.pkl','wb'))"
   ]
  },
  {
   "cell_type": "code",
   "execution_count": null,
   "metadata": {},
   "outputs": [],
   "source": [
    "plot_ajuste(model_NOx, X_train['PT08.S3(NOx)'], 'entrenamiento', 300)\n",
    "plot_ajuste(model_NOx, X_test['PT08.S3(NOx)'], 'test', 100)"
   ]
  },
  {
   "cell_type": "code",
   "execution_count": null,
   "metadata": {},
   "outputs": [],
   "source": [
    "pasos = 12 # 12 pasos al futuro\n",
    "bloques = 4\n",
    "y_pred_NOx = prediccion(model_NOx, X_test['PT08.S3(NOx)'], pasos=pasos)\n",
    "ploteo(X_test['PT08.S3(NOx)'], y_pred_NOx, pasos = pasos, bloques = bloques)"
   ]
  },
  {
   "cell_type": "markdown",
   "metadata": {},
   "source": [
    "### NMHC"
   ]
  },
  {
   "cell_type": "code",
   "execution_count": null,
   "metadata": {
    "tags": []
   },
   "outputs": [],
   "source": [
    "'''Cargar modelo '''\n",
    "try:\n",
    "    model_NMHC = pickle.load(open('modelos/modelo_NMHC.pkl','rb'))\n",
    "except:\n",
    "    params_model = pickle.load(open('params_modelo.pkl','rb'))\n",
    "    model_NMHC = SARIMAX(X_train['PT08.S2(NMHC)'], **params_model)\n",
    "    model_NMHC = model_NMHC.fit()\n",
    "    print(model_NMHC.summary())\n",
    "    pickle.dump(model_NMHC, open('modelos/modelo_NMHC.pkl','wb'))"
   ]
  },
  {
   "cell_type": "code",
   "execution_count": null,
   "metadata": {},
   "outputs": [],
   "source": [
    "plot_ajuste(model_NMHC, X_train['PT08.S2(NMHC)'], 'entrenamiento', 300)\n",
    "plot_ajuste(model_NMHC, X_test['PT08.S2(NMHC)'], 'test', 100)"
   ]
  },
  {
   "cell_type": "code",
   "execution_count": null,
   "metadata": {},
   "outputs": [],
   "source": [
    "pasos = 12 # 12 pasos al futuro\n",
    "bloques = 4\n",
    "y_pred_NMHC = prediccion(model_NMHC, X_test['PT08.S2(NMHC)'], pasos=pasos)\n",
    "ploteo(X_test['PT08.S2(NMHC)'], y_pred_NMHC, pasos = pasos, bloques = bloques)"
   ]
  },
  {
   "cell_type": "code",
   "execution_count": null,
   "metadata": {},
   "outputs": [],
   "source": []
  }
 ],
 "metadata": {
  "kernelspec": {
   "display_name": "Python 3",
   "language": "python",
   "name": "python3"
  },
  "language_info": {
   "codemirror_mode": {
    "name": "ipython",
    "version": 3
   },
   "file_extension": ".py",
   "mimetype": "text/x-python",
   "name": "python",
   "nbconvert_exporter": "python",
   "pygments_lexer": "ipython3",
   "version": "3.7.1-final"
  }
 },
 "nbformat": 4,
 "nbformat_minor": 2
}