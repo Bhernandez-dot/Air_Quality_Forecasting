{
 "cells": [
  {
   "cell_type": "markdown",
   "metadata": {},
   "source": [
    "# Proyecto Final Machine Learning"
   ]
  },
  {
   "cell_type": "code",
   "execution_count": null,
   "metadata": {},
   "outputs": [],
   "source": [
    "import pandas as pd\n",
    "import matplotlib.pyplot as plt\n",
    "import seaborn as sns\n",
    "import numpy as np\n",
    "from scipy.stats import norm\n",
    "from scipy import stats\n",
    "\n",
    "from sklearn import linear_model\n",
    "from sklearn.model_selection import train_test_split\n",
    "from scipy.optimize import curve_fit\n",
    "\n",
    "import warnings\n",
    "warnings.filterwarnings(\"ignore\")\n",
    "\n",
    "sns.set_style(\"whitegrid\")"
   ]
  },
  {
   "cell_type": "markdown",
   "metadata": {},
   "source": [
    "## Carga y Limpieza de datos"
   ]
  },
  {
   "cell_type": "code",
   "execution_count": null,
   "metadata": {},
   "outputs": [],
   "source": [
    "''' Se cargan los datos '''\n",
    "df = pd.read_csv('AirQualityUCI.csv', sep=';')\n",
    "df.drop(columns=['Unnamed: 15','Unnamed: 16'], inplace=True)\n",
    "df.dropna(inplace=True)\n",
    "\n",
    "''' Se cambia al formato deseado '''\n",
    "cols = [col  for col in df.columns if df[col].dtype == 'O' and col != 'Time']\n",
    "df['Time'] = df['Time'].str.replace('.',':')\n",
    "df[cols] = df[cols].replace(',','.',regex = True)\n",
    "df[df.columns[2:]] = df[df.columns[2:]].astype(float)\n",
    "df['Date'] = pd.to_datetime(df['Date'], format='%d/%m/%Y')\n",
    "df['Time'] = pd.to_timedelta(df['Time'], errors = 'ignore')\n",
    "\n",
    "''' Indice como fecha y los valores -200 se pasan a nan'''\n",
    "df.index = df['Date'] + df['Time']\n",
    "df.drop(['Date','Time'],axis=1,inplace=True)\n",
    "df = df.replace(-200,np.nan)\n",
    "df.index.name = 'Fecha'\n",
    "df.head()"
   ]
  },
  {
   "cell_type": "markdown",
   "metadata": {},
   "source": [
    "## Datos Faltantes"
   ]
  },
  {
   "cell_type": "code",
   "execution_count": null,
   "metadata": {},
   "outputs": [],
   "source": [
    "import missingno as msno"
   ]
  },
  {
   "cell_type": "code",
   "execution_count": null,
   "metadata": {},
   "outputs": [],
   "source": [
    "\"\"\" Cuantos nan hay por columna \"\"\"\n",
    "df.isna().sum()"
   ]
  },
  {
   "cell_type": "code",
   "execution_count": null,
   "metadata": {},
   "outputs": [],
   "source": [
    "''' Se quitan las columnas con demasiados nan '''\n",
    "df.drop(['NMHC(GT)'],axis=1,inplace=True)"
   ]
  },
  {
   "cell_type": "code",
   "execution_count": null,
   "metadata": {},
   "outputs": [],
   "source": [
    "''' Distribucion de los nan '''\n",
    "fig =msno.matrix(df[df.isnull().sum().index], labels=True, sparkline=False, figsize=(10,5), fontsize=10)\n",
    "fig_copy = fig.get_figure()\n",
    "plt.show()"
   ]
  },
  {
   "cell_type": "code",
   "execution_count": null,
   "metadata": {},
   "outputs": [],
   "source": [
    "def plot_cols(col1,col2):\n",
    "    '''Plot de columna 2 versus columna 1 '''\n",
    "    df_nan = df[[col1,col2]].dropna()\n",
    "    plt.figure(figsize=(15,7))\n",
    "    plt.plot(df_nan.values.T[0],df_nan.values.T[1],'o')\n",
    "    plt.xlabel(col1,fontsize=15)\n",
    "    plt.ylabel(col2,fontsize=15)\n",
    "    plt.title('Comparacion '+col2+' con '+col1,fontsize=15)"
   ]
  },
  {
   "cell_type": "markdown",
   "metadata": {},
   "source": [
    "Se usara la relacion entre las columnas GT y PT para rellenar los datos faltantes (siempre que se pueda)."
   ]
  },
  {
   "cell_type": "code",
   "execution_count": null,
   "metadata": {},
   "outputs": [],
   "source": [
    "plot_cols('CO(GT)','PT08.S1(CO)')\n",
    "plot_cols('NOx(GT)','PT08.S3(NOx)')\n",
    "plot_cols('NO2(GT)','PT08.S4(NO2)')"
   ]
  },
  {
   "cell_type": "markdown",
   "metadata": {},
   "source": [
    "Al observar los graficos se ve que para las primeras dos comparaciones es favorable ajustar una curva a los datos."
   ]
  },
  {
   "cell_type": "code",
   "execution_count": null,
   "metadata": {},
   "outputs": [],
   "source": [
    "def Regresion_Lineal(columnas):\n",
    "    df_nan = df[columnas].dropna() \n",
    "    X = df_nan[[columnas[0]]].values\n",
    "    y = df_nan[columnas[1]].values\n",
    "    regr = linear_model.RidgeCV().fit(X,y)\n",
    "    return regr\n",
    "\n",
    "def curve(x,a,b,c):\n",
    "    return a*np.exp(-b*x)+c\n",
    "\n",
    "def Regresion_Nolineal(columnas):\n",
    "    df_nan = df[columnas].dropna() \n",
    "    X = df_nan[columnas[0]].values\n",
    "    y = df_nan[columnas[1]].values\n",
    "    regr,cov = curve_fit(curve,X,y)\n",
    "    return regr"
   ]
  },
  {
   "cell_type": "code",
   "execution_count": null,
   "metadata": {},
   "outputs": [],
   "source": [
    "modeloCO = Regresion_Lineal(['CO(GT)','PT08.S1(CO)'])\n",
    "modeloNOx = Regresion_Nolineal(['NOx(GT)','PT08.S3(NOx)'])"
   ]
  },
  {
   "cell_type": "code",
   "execution_count": null,
   "metadata": {},
   "outputs": [],
   "source": [
    "def plot_fit(col1,col2,modelo):\n",
    "    '''Plot del ajuste del modelo, para columna 2 versus columna 1 '''\n",
    "    df_nan = df[[col1,col2]].dropna()\n",
    "    X = df_nan.values[:,0].reshape(-1,1)\n",
    "    try:\n",
    "        y_pred = modelo.predict(X)\n",
    "        tipo = ''\n",
    "    except:\n",
    "        y_pred = curve(X,*modelo)\n",
    "        tipo = '.'\n",
    "    y = df_nan.values[:,1]\n",
    "    plt.figure(figsize=(15,7))\n",
    "    plt.plot(X,y,'o')\n",
    "    plt.plot(X,y_pred,tipo)\n",
    "    plt.xlabel(col1,fontsize=15)\n",
    "    plt.ylabel(col2,fontsize=15)\n",
    "    plt.title('Ajuste '+col2+' con respecto a '+col1,fontsize=15)\n",
    "    plt.show()"
   ]
  },
  {
   "cell_type": "code",
   "execution_count": null,
   "metadata": {},
   "outputs": [],
   "source": [
    "plot_fit('CO(GT)','PT08.S1(CO)',modeloCO)\n",
    "plot_fit('NOx(GT)','PT08.S3(NOx)',modeloNOx)"
   ]
  },
  {
   "cell_type": "code",
   "execution_count": null,
   "metadata": {},
   "outputs": [],
   "source": [
    "def rellenar_nan(col1,col2,modelo):\n",
    "    '''Relleno de datos faltantes dado un modelo ajustado, sino hay modelo se usa fillna de pandas '''\n",
    "    if col2 == '':\n",
    "        df[col1] = df[col1].fillna(method = modelo)\n",
    "    else:\n",
    "        df_col = df[[col1,col2]]\n",
    "        indice = df_col[df_col.isnull().any(1)].dropna(axis=0,how='all').index\n",
    "        hola1 = df_col.loc[indice][[col1]]\n",
    "        hola2 = df_col.loc[hola1[hola1.isnull().any(1)].index]\n",
    "        indice_importante = hola2.index\n",
    "        X = hola2.values[:,1:2]\n",
    "        try:\n",
    "            new_df = pd.DataFrame(modelo.predict(X),index = indice_importante,columns = [col1])\n",
    "        except:\n",
    "            new_df = pd.DataFrame(curve(X,*modelo),index = indice_importante,columns = [col1])\n",
    "        df.fillna(new_df[[col1]],inplace=True)"
   ]
  },
  {
   "cell_type": "code",
   "execution_count": null,
   "metadata": {},
   "outputs": [],
   "source": [
    "rellenar_nan('PT08.S1(CO)','CO(GT)',modeloCO)\n",
    "rellenar_nan('PT08.S3(NOx)','NOx(GT)',modeloNOx)\n",
    "rellenar_nan(['PT08.S1(CO)','PT08.S2(NMHC)','PT08.S3(NOx)','PT08.S5(O3)','PT08.S4(NO2)','T','RH','AH'],'','ffill')\n",
    "df.dropna(axis=1,inplace=True)"
   ]
  },
  {
   "cell_type": "code",
   "execution_count": null,
   "metadata": {},
   "outputs": [],
   "source": [
    "'''Guardar el dataframe en pickle '''\n",
    "df.to_pickle(\"el_df.pkl\")"
   ]
  },
  {
   "cell_type": "code",
   "execution_count": null,
   "metadata": {},
   "outputs": [],
   "source": [
    "'''Cargar los datos, ya procesados '''\n",
    "df = pd.read_pickle(\"el_df.pkl\")\n",
    "df.head()"
   ]
  },
  {
   "cell_type": "markdown",
   "metadata": {},
   "source": [
    "## Distribución de los datos"
   ]
  },
  {
   "cell_type": "code",
   "execution_count": null,
   "metadata": {},
   "outputs": [],
   "source": [
    "import plotly.graph_objects as go"
   ]
  },
  {
   "cell_type": "code",
   "execution_count": null,
   "metadata": {},
   "outputs": [],
   "source": [
    "def plot_data_distribution(df):\n",
    "    '''Vista previa de la distribución de los datos, sin considerar la dependencia temporal '''\n",
    "    \n",
    "    fig, ax = plt.subplots(nrows=4, ncols=2, figsize=[17, 17])\n",
    "    fig.tight_layout()\n",
    "\n",
    "    # list(map(lambda a : a.remove(), ax[-1,1:]))\n",
    "    fig.suptitle('Distribuciones previa dependencia del tiempo',\n",
    "                fontsize=20,\n",
    "                x=0.5,\n",
    "                y=1.05)\n",
    "\n",
    "    for axis, col in zip(ax.flatten(), df.columns[:]):\n",
    "        try :\n",
    "            sns.distplot(df[col], ax=axis, rug=True)\n",
    "                \n",
    "        except RuntimeError:\n",
    "            sns.distplot(df[col], ax=axis, rug=True, kde=False)\n",
    "        \n",
    "        axis.set_xlabel(col, fontsize=15)\n",
    "\n",
    "    plt.subplots_adjust(wspace=0.4, hspace=0.4)\n",
    "\n",
    "def plot_tiempo(columna):\n",
    "    '''Grafico de la columna deseada en funcion del tiempo, usando plotly '''\n",
    "    fig = go.Figure([go.Scatter(x=df.index, y=df[columna])])\n",
    "    fig.update_layout(title={'text': f\"{columna} en función del tiempo\", 'y':0.9, 'x':0.5, \n",
    "                             'xanchor': 'center', 'yanchor': 'top'},\n",
    "                      xaxis_title=\"Fecha\",\n",
    "                      yaxis_title=f\"{columna}\",\n",
    "                      font=dict(size=15),\n",
    "                      width=900, height=500)\n",
    "    fig.show()"
   ]
  },
  {
   "cell_type": "code",
   "execution_count": null,
   "metadata": {},
   "outputs": [],
   "source": [
    "'''Distribucion de los datos, sin considerar la dependencia temporal '''\n",
    "plot_data_distribution(df)"
   ]
  },
  {
   "cell_type": "code",
   "execution_count": null,
   "metadata": {},
   "outputs": [],
   "source": [
    "''' Datos en funcion del tiempo '''\n",
    "for col in df.columns:\n",
    "    plot_tiempo(col)"
   ]
  },
  {
   "cell_type": "code",
   "execution_count": null,
   "metadata": {},
   "outputs": [],
   "source": [
    "'''Todos con todos'''\n",
    "# muchos plots, mejor ver el analisis de correlacion abajo\n",
    "# from itertools import combinations\n",
    "\n",
    "# for col_1, col_2 in combinations(df.columns,2):\n",
    "#     plot_cols(col_1, col_2)"
   ]
  },
  {
   "cell_type": "markdown",
   "metadata": {},
   "source": [
    "## Distribución outliers"
   ]
  },
  {
   "cell_type": "code",
   "execution_count": null,
   "metadata": {},
   "outputs": [],
   "source": [
    "fig, ax = plt.subplots(nrows=4, ncols=2, figsize=[17, 17])\n",
    "fig.tight_layout()\n",
    "fig.suptitle('Distribucion boxplot de los datos', fontsize=20, x=0.5, y=1.05)\n",
    "for axis, col in zip(ax.flatten(), df.columns[:]):\n",
    "    df[col].plot.box(ax = axis)\n",
    "plt.subplots_adjust(wspace=0.4, hspace=0.4)"
   ]
  },
  {
   "cell_type": "code",
   "execution_count": null,
   "metadata": {},
   "outputs": [],
   "source": [
    "# que hacer con los outliers???"
   ]
  },
  {
   "cell_type": "markdown",
   "metadata": {},
   "source": [
    "## Análisis de correlación"
   ]
  },
  {
   "cell_type": "code",
   "execution_count": null,
   "metadata": {},
   "outputs": [],
   "source": [
    "df_corr = df.corr()\n",
    "df_corr"
   ]
  },
  {
   "cell_type": "markdown",
   "metadata": {},
   "source": [
    "Se puede apreciar que las columnas de interes (concentraciones) tienen una alta correlacion entre ellas, pero no asi con la temperatura y la humedad (NO2 igual un poco)"
   ]
  },
  {
   "cell_type": "code",
   "execution_count": null,
   "metadata": {
    "tags": []
   },
   "outputs": [],
   "source": [
    "'''Diccionario con posibles variables para predecir variables de interes '''\n",
    "dic_pred = dict()\n",
    "for x in df_corr.columns:\n",
    "    dic_pred[x]=[]\n",
    "    for y in df_corr.columns:\n",
    "        if abs(df_corr.loc[x,y]) > 0.5:\n",
    "            dic_pred[x].append(y)\n",
    "del dic_pred['T'], dic_pred['RH'], dic_pred['AH']\n",
    "for key,value in dic_pred.items():\n",
    "    print(f\"{key}: {value}\")"
   ]
  },
  {
   "cell_type": "markdown",
   "metadata": {},
   "source": [
    "## Matraca prediccion"
   ]
  },
  {
   "cell_type": "code",
   "execution_count": null,
   "metadata": {},
   "outputs": [],
   "source": [
    "from pmdarima.arima import auto_arima # hay que instalar esta wea por sia: pip install pmdarima"
   ]
  },
  {
   "cell_type": "code",
   "execution_count": null,
   "metadata": {},
   "outputs": [],
   "source": [
    "def train_test_split(df,tamaño = 0.8):\n",
    "    X_train = df[:int(df.shape[0]*(tamaño))]\n",
    "    X_test = df[int(df.shape[0]*tamaño):]\n",
    "    return X_train,X_test"
   ]
  },
  {
   "cell_type": "code",
   "execution_count": null,
   "metadata": {},
   "outputs": [],
   "source": [
    "X_train,X_test = train_test_split(df)"
   ]
  },
  {
   "cell_type": "code",
   "execution_count": null,
   "metadata": {},
   "outputs": [],
   "source": [
    "def Modelo_auto_arima(df,columna):\n",
    "    df_col = df[columna]\n",
    "    model = auto_arima(df_col, start_p=1, start_q=1,max_p=7, max_q=7,d=1, max_d=7\n",
    "                       ,seasonal = True,trace=True,error_action='ignore',suppress_warnings=True, stepwise=True)\n",
    "    return model"
   ]
  },
  {
   "cell_type": "code",
   "execution_count": null,
   "metadata": {},
   "outputs": [],
   "source": [
    "model = Modelo_auto_arima(X_test,['PT08.S1(CO)'])"
   ]
  },
  {
   "cell_type": "code",
   "execution_count": null,
   "metadata": {},
   "outputs": [],
   "source": [
    "model"
   ]
  },
  {
   "cell_type": "code",
   "execution_count": null,
   "metadata": {},
   "outputs": [],
   "source": [
    "model.summary()"
   ]
  }
 ],
 "metadata": {
  "kernelspec": {
   "display_name": "Python 3",
   "language": "python",
   "name": "python3"
  },
  "language_info": {
   "codemirror_mode": {
    "name": "ipython",
    "version": 3
   },
   "file_extension": ".py",
   "mimetype": "text/x-python",
   "name": "python",
   "nbconvert_exporter": "python",
   "pygments_lexer": "ipython3",
   "version": "3.7.4"
  }
 },
 "nbformat": 4,
 "nbformat_minor": 2
}